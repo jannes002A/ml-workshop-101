{
 "cells": [
  {
   "cell_type": "markdown",
   "id": "22c9bc31-6f3a-406f-8195-540adcfa5350",
   "metadata": {},
   "source": [
    "# Data Poising im Pytorch Model"
   ]
  },
  {
   "cell_type": "code",
   "execution_count": null,
   "id": "1eb45019-b940-480c-88a2-4ce1348e8164",
   "metadata": {},
   "outputs": [],
   "source": [
    "import numpy as np\n",
    "import os\n",
    "from sklearn.datasets import make_moons\n",
    "from sklearn.model_selection import train_test_split\n",
    "\n",
    "import seaborn as sns\n",
    "import matplotlib.pyplot as plt\n",
    "from matplotlib import cm\n",
    "from mpl_toolkits.mplot3d import Axes3D\n",
    "sns.set_style(\"whitegrid\")\n",
    "from sklearn.metrics import accuracy_score\n",
    "\n",
    "import torch"
   ]
  },
  {
   "cell_type": "code",
   "execution_count": null,
   "id": "9d9376f5-cb49-4171-bd9d-e74213318c38",
   "metadata": {},
   "outputs": [],
   "source": [
    "# Hilfsfunktion um die vorhergesagten Wahrscheinlichkeiten in die Klassen umzuwandeln\n",
    "def convert_prob_into_class(probs):\n",
    "    probs_ = np.copy(probs)\n",
    "    probs_[probs_ > 0.5] = 1\n",
    "    probs_[probs_ <= 0.5] = 0\n",
    "    return probs_"
   ]
  },
  {
   "cell_type": "code",
   "execution_count": null,
   "id": "7e5bda6a-212b-4965-a749-55eea7553e05",
   "metadata": {},
   "outputs": [],
   "source": [
    "# Hilfsfunktion um die Daten zu visualisieren\n",
    "def make_plot(X, y, plot_name, file_name=None, XX=None, YY=None, preds=None, dark=False):\n",
    "    if (dark):\n",
    "        plt.style.use('dark_background')\n",
    "    else:\n",
    "        sns.set_style(\"whitegrid\")\n",
    "    plt.figure(figsize=(16,12))\n",
    "    axes = plt.gca()\n",
    "    axes.set(xlabel=\"$X_1$\", ylabel=\"$X_2$\")\n",
    "    plt.title(plot_name, fontsize=30)\n",
    "    plt.subplots_adjust(left=0.20)\n",
    "    plt.subplots_adjust(right=0.80)\n",
    "    if(XX is not None and YY is not None and preds is not None):\n",
    "        plt.contourf(XX, YY, preds.reshape(XX.shape), 25, alpha = 1, cmap=cm.Spectral)\n",
    "        plt.contour(XX, YY, preds.reshape(XX.shape), levels=[.5], cmap=\"Greys\", vmin=0, vmax=.6)\n",
    "    plt.scatter(X[:, 0], X[:, 1], c=y.ravel(), s=40, cmap=plt.cm.Spectral, edgecolors='black')\n",
    "    if(file_name):\n",
    "        plt.savefig(file_name)\n",
    "        plt.close()"
   ]
  },
  {
   "cell_type": "code",
   "execution_count": null,
   "id": "d96bf8d7-5c07-41cb-9f58-b44f112b4a7d",
   "metadata": {},
   "outputs": [],
   "source": [
    "# Größe des Datensatzes\n",
    "N_SAMPLES = 1000\n",
    "# Größe des Testsets\n",
    "TEST_SIZE = 0.1"
   ]
  },
  {
   "cell_type": "code",
   "execution_count": null,
   "id": "7cba8a23-bac3-43cb-a857-779e96e9ab3d",
   "metadata": {},
   "outputs": [],
   "source": [
    "# Generierung des Datansatzes und split in test und train set\n",
    "X, y = make_moons(n_samples = N_SAMPLES, noise=0.2, random_state=100)\n",
    "X_train, X_test, y_train, y_test = train_test_split(X, y, test_size=TEST_SIZE, random_state=42)"
   ]
  },
  {
   "cell_type": "code",
   "execution_count": null,
   "id": "0a7f5b21-25f3-4980-8256-037b1ed1ecde",
   "metadata": {},
   "outputs": [],
   "source": [
    "# Data Poising\n",
    "procent = 0.5\n",
    "broken = int(len(y_train)*procent)\n",
    "trues = len(y_train) - broken\n",
    "y_poison = np.concatenate((y_train[:trues], 1-y_train[-broken:]), axis=None)\n",
    "# Visualisiung der Daten\n",
    "make_plot(X_train,y_poison,\"Data poison\")"
   ]
  },
  {
   "cell_type": "code",
   "execution_count": null,
   "id": "50ac6537-138f-4906-b2e3-0e40a0327321",
   "metadata": {},
   "outputs": [],
   "source": [
    "# Check ob eine GPU da ist\n",
    "device = \"cuda\" if torch.cuda.is_available() else \"cpu\"\n",
    "torch.set_default_device(device)\n",
    "\n",
    "# Festlegen der Architektur\n",
    "model = torch.nn.Sequential(\n",
    "            torch.nn.Linear(2, 25),\n",
    "            torch.nn.ReLU(),\n",
    "            torch.nn.Linear(25, 50),\n",
    "            torch.nn.ReLU(),\n",
    "            torch.nn.Linear(50, 25),\n",
    "            torch.nn.ReLU(),\n",
    "            torch.nn.Linear(25, 1),\n",
    "            torch.nn.Sigmoid()\n",
    ")\n",
    "# Festlegen der Lossfunktion\n",
    "loss_fn = torch.nn.BCELoss()\n",
    "\n",
    "# Alles rüberschieben, sodass pytorch alles übernimmt\n",
    "# Pytorch will Tensoren haben\n",
    "xx = torch.from_numpy(X_train).to(device,torch.float32)\n",
    "yy = torch.from_numpy(y_poison).to(device,torch.float32)\n",
    "yy = yy.unsqueeze(-1)\n",
    "\n",
    "# Festlegen der Lernrate \n",
    "learning_rate = 1e-4\n",
    "# Festlegen des Optimierungsalgorithmus\n",
    "optimizer = torch.optim.RMSprop(model.parameters(), lr=learning_rate)\n",
    "# Schleife über eine Anzahl von vorher festgelegten Epochen, um zu lernen\n",
    "for t in range(10000):\n",
    "    # Vorwärtsdurchlauf\n",
    "    y_pred = model(xx)\n",
    "\n",
    "    # Lossfunktion ausrechnen und anzeigen\n",
    "    loss = loss_fn(y_pred, yy)\n",
    "    if t % 100 == 99:\n",
    "        print(t, loss.item())\n",
    "\n",
    "    # Pytorch buffert den Gradienten aus allen vorigen Berechnungen\n",
    "    # Um das los zu werden und nur den aktuellen zu haben\n",
    "    # Nullen wir einmal den Gradienten\n",
    "    optimizer.zero_grad()\n",
    "\n",
    "    # Rückwärtsdurchlauf\n",
    "    loss.backward()\n",
    "\n",
    "    # Update der Parameter\n",
    "    optimizer.step()"
   ]
  },
  {
   "cell_type": "code",
   "execution_count": null,
   "id": "0b9032f4-0d11-499b-a8cc-5f6deeb1e92c",
   "metadata": {},
   "outputs": [],
   "source": [
    "# Hilfsvariablen für die Visualisierung\n",
    "GRID_X_START = -1.5\n",
    "GRID_X_END = 2.5\n",
    "GRID_Y_START = -1.0\n",
    "GRID_Y_END = 2\n",
    "\n",
    "# Erstellen eines Gitter für das Bild\n",
    "grid = np.mgrid[GRID_X_START:GRID_X_END:100j,GRID_X_START:GRID_Y_END:100j]\n",
    "grid_2d = grid.reshape(2, -1).T\n",
    "XX, YY = grid"
   ]
  },
  {
   "cell_type": "code",
   "execution_count": null,
   "id": "a271bf01-e652-4d16-a557-5d6a4cc72045",
   "metadata": {},
   "outputs": [],
   "source": [
    "# Testset zu pytorch schrieben\n",
    "xx_test = torch.from_numpy(X_test).to(device,torch.float32)\n",
    "# Vorwärtsdurchlauf auf dem Testset\n",
    "y_hat = model(xx_test).cpu().detach().numpy()\n",
    "# Umwandeln in Klassen\n",
    "y_pred = convert_prob_into_class(y_hat)\n",
    "acc_test = (y_test.reshape(int(N_SAMPLES*TEST_SIZE),1) == y_pred).all(axis=1).mean()\n",
    "print(\"Test set accuracy: {:.2f}\".format(acc_test))"
   ]
  },
  {
   "cell_type": "code",
   "execution_count": null,
   "id": "57a57e79-22ea-47b1-8969-3517c186f783",
   "metadata": {},
   "outputs": [],
   "source": [
    "# Visualisierung auf dem Gitter\n",
    "xx = torch.from_numpy(grid_2d).to(device,torch.float32)\n",
    "y_plot = y_hat = model(xx).cpu().detach().numpy()\n",
    "make_plot(X_test, y_test, \"Pytorch Model\", file_name=None, XX=XX, YY=YY, preds=y_plot)"
   ]
  },
  {
   "cell_type": "code",
   "execution_count": null,
   "id": "2e22200d-3410-4c8d-96bb-5eaaf2734b8d",
   "metadata": {},
   "outputs": [],
   "source": []
  }
 ],
 "metadata": {
  "kernelspec": {
   "display_name": "Python 3 (ipykernel)",
   "language": "python",
   "name": "python3"
  },
  "language_info": {
   "codemirror_mode": {
    "name": "ipython",
    "version": 3
   },
   "file_extension": ".py",
   "mimetype": "text/x-python",
   "name": "python",
   "nbconvert_exporter": "python",
   "pygments_lexer": "ipython3",
   "version": "3.10.12"
  }
 },
 "nbformat": 4,
 "nbformat_minor": 5
}
