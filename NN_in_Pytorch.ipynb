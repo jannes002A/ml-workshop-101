{
 "cells": [
  {
   "cell_type": "markdown",
   "id": "cf63bea2-744c-4a76-ab1a-705c50aa6cf6",
   "metadata": {},
   "source": [
    "# Pytorch Model"
   ]
  },
  {
   "cell_type": "code",
   "execution_count": null,
   "id": "a302e0e8-c5df-4c24-a98b-f986fde8fcec",
   "metadata": {},
   "outputs": [],
   "source": [
    "import numpy as np\n",
    "import os\n",
    "from sklearn.datasets import make_moons\n",
    "from sklearn.model_selection import train_test_split\n",
    "\n",
    "import seaborn as sns\n",
    "import matplotlib.pyplot as plt\n",
    "from matplotlib import cm\n",
    "from mpl_toolkits.mplot3d import Axes3D\n",
    "sns.set_style(\"whitegrid\")\n",
    "from sklearn.metrics import accuracy_score\n",
    "\n",
    "import torch"
   ]
  },
  {
   "cell_type": "code",
   "execution_count": null,
   "id": "e63b4f9e-12ed-404a-b631-50407f8c041f",
   "metadata": {},
   "outputs": [],
   "source": [
    "# Hilfsfunktion um die vorhergesagten Wahrscheinlichkeiten in die Klassen umzuwandeln\n",
    "# Man könnte die Probs verändern, wenn man das machen will\n",
    "def convert_prob_into_class(probs):\n",
    "    probs_ = np.copy(probs)\n",
    "    probs_[probs_ > 0.5] = 1\n",
    "    probs_[probs_ <= 0.5] = 0\n",
    "    return probs_"
   ]
  },
  {
   "cell_type": "code",
   "execution_count": null,
   "id": "87cfed5f-2e9a-4afc-84b4-3e0ff5a7c0fc",
   "metadata": {},
   "outputs": [],
   "source": [
    "# Hilfsfunktion um die Daten zu visualisieren\n",
    "def make_plot(X, y, plot_name, file_name=None, XX=None, YY=None, preds=None, dark=False):\n",
    "    if (dark):\n",
    "        plt.style.use('dark_background')\n",
    "    else:\n",
    "        sns.set_style(\"whitegrid\")\n",
    "    plt.figure(figsize=(16,12))\n",
    "    axes = plt.gca()\n",
    "    axes.set(xlabel=\"$X_1$\", ylabel=\"$X_2$\")\n",
    "    plt.title(plot_name, fontsize=30)\n",
    "    plt.subplots_adjust(left=0.20)\n",
    "    plt.subplots_adjust(right=0.80)\n",
    "    if(XX is not None and YY is not None and preds is not None):\n",
    "        plt.contourf(XX, YY, preds.reshape(XX.shape), 25, alpha = 1, cmap=cm.Spectral)\n",
    "        plt.contour(XX, YY, preds.reshape(XX.shape), levels=[.5], cmap=\"Greys\", vmin=0, vmax=.6)\n",
    "    plt.scatter(X[:, 0], X[:, 1], c=y.ravel(), s=40, cmap=plt.cm.Spectral, edgecolors='black')\n",
    "    if(file_name):\n",
    "        plt.savefig(file_name)\n",
    "        plt.close()"
   ]
  },
  {
   "cell_type": "code",
   "execution_count": null,
   "id": "bbda21dc-eb38-4351-8fa2-e044d4ea5bae",
   "metadata": {},
   "outputs": [],
   "source": [
    "def plot_learn_data(data1,data2,name=\"Cost\"):\n",
    "    plt.figure(figsize=(16,12))\n",
    "    axes = plt.gca()\n",
    "    axes.set(xlabel=\"$Epochen$\", ylabel=name)\n",
    "    plt.title(name, fontsize=30)\n",
    "    plt.subplots_adjust(left=0.20)\n",
    "    plt.subplots_adjust(right=0.80)\n",
    "    plt.plot(data1)\n",
    "    plt.plot(data2)\n",
    "    axes.legend(['Train Set', 'Test Set'])"
   ]
  },
  {
   "cell_type": "code",
   "execution_count": null,
   "id": "25e8e4f2-ecbf-48d9-9e81-666c9b7ef7a8",
   "metadata": {},
   "outputs": [],
   "source": [
    "# Größe des Datensatzes\n",
    "# KANN MAN VERÄNDERN\n",
    "N_SAMPLES = 1000\n",
    "# Größe des Testsets\n",
    "# KANN MAN VERÄNDERN\n",
    "TEST_SIZE = 0.1"
   ]
  },
  {
   "cell_type": "code",
   "execution_count": null,
   "id": "8e04ead1-c2c2-475d-887a-d14a39a722f6",
   "metadata": {},
   "outputs": [],
   "source": [
    "# Generierung des Datansatzes und split in test und train set\n",
    "X, y = make_moons(n_samples = N_SAMPLES, noise=0.2, random_state=100)\n",
    "# random_state KANN MAN VERÄNDERN\n",
    "X_train, X_test, y_train, y_test = train_test_split(X, y, test_size=TEST_SIZE, random_state=42)"
   ]
  },
  {
   "cell_type": "code",
   "execution_count": null,
   "id": "a47cd092-d629-4bba-8c1b-ed379c6dc1f0",
   "metadata": {},
   "outputs": [],
   "source": [
    "# Check ob eine GPU da ist\n",
    "device = \"cuda\" if torch.cuda.is_available() else \"cpu\"\n",
    "torch.set_default_device(device)\n",
    "\n",
    "output = False\n",
    "\n",
    "# Festlegen der Architektur\n",
    "# KANN MAN VERÄNDERN\n",
    "model = torch.nn.Sequential(\n",
    "            torch.nn.Linear(2, 25),\n",
    "            torch.nn.ReLU(),\n",
    "            torch.nn.Linear(25, 50),\n",
    "            torch.nn.ReLU(),\n",
    "            torch.nn.Linear(50, 25),\n",
    "            torch.nn.ReLU(),\n",
    "            torch.nn.Linear(25, 1),\n",
    "            torch.nn.Sigmoid()\n",
    ")\n",
    "# Festlegen der Lossfunktion\n",
    "loss_fn = torch.nn.BCELoss()\n",
    "\n",
    "# Alles rüberschieben, sodass pytorch alles übernimmt\n",
    "# Pytorch will Tensoren haben\n",
    "xx = torch.from_numpy(X_train).to(device,torch.float32)\n",
    "yy = torch.from_numpy(y_train).to(device,torch.float32)\n",
    "yy = yy.unsqueeze(-1)\n",
    "\n",
    "xx_test = torch.from_numpy(X_test).to(device,torch.float32)\n",
    "yy_test = torch.from_numpy(y_test).to(device,torch.float32)\n",
    "yy_test = yy_test.unsqueeze(-1)\n",
    "\n",
    "cost_history = []\n",
    "accuracy_history = []\n",
    "cost_test_history = []\n",
    "accuracy_test_history = [] \n",
    "\n",
    "# Festlegen der Lernrate \n",
    "# KANN MAN VERÄNDERN\n",
    "learning_rate = 1e-4\n",
    "# Festlegen des Optimierungsalgorithmus\n",
    "# KANN MAN VERÄNERN (check Doku)\n",
    "optimizer = torch.optim.RMSprop(model.parameters(), lr=learning_rate)\n",
    "# Schleife über eine Anzahl von vorher festgelegten Epochen, um zu lernen\n",
    "for t in range(10000):\n",
    "    # Vorwärtsdurchlauf\n",
    "    y_pred = model(xx)\n",
    "\n",
    "    # Lossfunktion ausrechnen und anzeigen\n",
    "    loss = loss_fn(y_pred, yy)\n",
    "    cost_history.append(loss.detach().numpy())\n",
    "\n",
    "    # Genauigkeit ausrechnen\n",
    "    y_classes = convert_prob_into_class(y_pred.detach().numpy())\n",
    "    acc = (y_train.reshape(int(N_SAMPLES*(1-TEST_SIZE)),1) == y_classes).all(axis=1).mean()\n",
    "    accuracy_history.append(acc)\n",
    "\n",
    "    # Test Set\n",
    "    y_pred_test = model(xx_test)\n",
    "\n",
    "    # Lossfunktion ausrechnen und anzeigen\n",
    "    loss_test = loss_fn(y_pred_test, yy_test)\n",
    "    cost_test_history.append(loss_test.detach().numpy())\n",
    "\n",
    "    # Genauigkeit ausrechnen\n",
    "    y_classes_test = convert_prob_into_class(y_pred_test.detach().numpy())\n",
    "    acc_test = (y_test.reshape(int(N_SAMPLES*TEST_SIZE),1) == y_classes_test).all(axis=1).mean()\n",
    "    accuracy_test_history.append(acc_test)\n",
    "\n",
    "    history = [cost_history, accuracy_history, cost_test_history, accuracy_test_history ]\n",
    "    \n",
    "    if t % 100 == 99 and output:\n",
    "        print(t, loss.item())\n",
    "\n",
    "    # Pytorch buffert den Gradienten aus allen vorigen Berechnungen\n",
    "    # Um das los zu werden und nur den aktuellen zu haben\n",
    "    # Nullen wir einmal den Gradienten\n",
    "    optimizer.zero_grad()\n",
    "\n",
    "    # Rückwärtsdurchlauf\n",
    "    loss.backward()\n",
    "\n",
    "    # Update der Parameter\n",
    "    optimizer.step()"
   ]
  },
  {
   "cell_type": "code",
   "execution_count": null,
   "id": "50029f78-5710-497c-a624-9e674467c3ee",
   "metadata": {},
   "outputs": [],
   "source": [
    "# Plot der Kostenfunktion\n",
    "plot_learn_data(history[0],history[2])\n",
    "# Plot Genauigkeit\n",
    "plot_learn_data(history[1],history[3],name=\"Accuracy\")"
   ]
  },
  {
   "cell_type": "code",
   "execution_count": null,
   "id": "ab6030f2-a5e5-4fb0-9fc1-4e1a0ff8ea1f",
   "metadata": {},
   "outputs": [],
   "source": [
    "# Hilfsvariablen für die Visualisierung\n",
    "GRID_X_START = -1.5\n",
    "GRID_X_END = 2.5\n",
    "GRID_Y_START = -1.0\n",
    "GRID_Y_END = 2\n",
    "\n",
    "# Erstellen eines Gitters für das Bild\n",
    "grid = np.mgrid[GRID_X_START:GRID_X_END:100j,GRID_X_START:GRID_Y_END:100j]\n",
    "grid_2d = grid.reshape(2, -1).T\n",
    "XX, YY = grid"
   ]
  },
  {
   "cell_type": "code",
   "execution_count": null,
   "id": "78af7266-4c7b-4e07-bc5e-e91b52f816ec",
   "metadata": {},
   "outputs": [],
   "source": [
    "# Testset zu pytorch schrieben\n",
    "xx_test = torch.from_numpy(X_test).to(device,torch.float32)\n",
    "# Vorwärtsdurchlauf auf dem Testset\n",
    "y_hat = model(xx_test).cpu().detach().numpy()\n",
    "# Umwandeln in Klassen\n",
    "y_pred = convert_prob_into_class(y_hat)\n",
    "acc_test = (y_test.reshape(int(N_SAMPLES*TEST_SIZE),1) == y_pred).all(axis=1).mean()\n",
    "print(\"Test set accuracy: {:.2f}\".format(acc_test))"
   ]
  },
  {
   "cell_type": "code",
   "execution_count": null,
   "id": "7bcb8130-41bf-488c-a52d-be9afee85d65",
   "metadata": {},
   "outputs": [],
   "source": [
    "# Visualisierung auf dem Gitter\n",
    "xx = torch.from_numpy(grid_2d).to(device,torch.float32)\n",
    "y_plot = y_hat = model(xx).cpu().detach().numpy()\n",
    "make_plot(X_test, y_test, \"Pytorch Model\", file_name=None, XX=XX, YY=YY, preds=y_plot)"
   ]
  },
  {
   "cell_type": "markdown",
   "id": "b5b5f640-778e-4d89-b394-a6b386fb7a60",
   "metadata": {},
   "source": [
    "## Visualisierung des Pytoch Modells mit initialen Paramter"
   ]
  },
  {
   "cell_type": "code",
   "execution_count": null,
   "id": "e13b743e-4500-43c2-9c51-444d75291e80",
   "metadata": {},
   "outputs": [],
   "source": [
    "# Festlegen der Architektur\n",
    "model_init = torch.nn.Sequential(\n",
    "            torch.nn.Linear(2, 25),\n",
    "            torch.nn.ReLU(),\n",
    "            torch.nn.Linear(25, 50),\n",
    "            torch.nn.ReLU(),\n",
    "            torch.nn.Linear(50, 25),\n",
    "            torch.nn.ReLU(),\n",
    "            torch.nn.Linear(25, 1),\n",
    "            torch.nn.Sigmoid()\n",
    ")"
   ]
  },
  {
   "cell_type": "code",
   "execution_count": null,
   "id": "50143a8a-8f3a-4f8d-bcea-d8337c67242a",
   "metadata": {},
   "outputs": [],
   "source": [
    "xx = torch.from_numpy(grid_2d).to(device,torch.float32)\n",
    "y_plot = y_hat = model_init(xx).cpu().detach().numpy()\n",
    "make_plot(X_test, y_test, \"Pytorch Model\", file_name=None, XX=XX, YY=YY, preds=y_plot)"
   ]
  },
  {
   "cell_type": "code",
   "execution_count": null,
   "id": "a89cd1e5-fcd8-4623-a810-40d891537603",
   "metadata": {},
   "outputs": [],
   "source": []
  }
 ],
 "metadata": {
  "kernelspec": {
   "display_name": "Python 3 (ipykernel)",
   "language": "python",
   "name": "python3"
  },
  "language_info": {
   "codemirror_mode": {
    "name": "ipython",
    "version": 3
   },
   "file_extension": ".py",
   "mimetype": "text/x-python",
   "name": "python",
   "nbconvert_exporter": "python",
   "pygments_lexer": "ipython3",
   "version": "3.10.12"
  }
 },
 "nbformat": 4,
 "nbformat_minor": 5
}
